{
 "cells": [
  {
   "cell_type": "markdown",
   "metadata": {
    "_uuid": "cf0510b6138321268b476718f90da38e668475d5"
   },
   "source": [
    "## dog/cat classification using pre-trained Keras MobileNet\n",
    "\n",
    "First of all importing libraries."
   ]
  },
  {
   "cell_type": "code",
   "execution_count": null,
   "metadata": {
    "_cell_guid": "b1076dfc-b9ad-4769-8c92-a6c4dae69d19",
    "_uuid": "8f2839f25d086af736a60e9eeb907d3b93b6e0e5"
   },
   "outputs": [],
   "source": [
    "import numpy as np\n",
    "import pandas as pd\n",
    "import glob\n",
    "import matplotlib.pyplot as plt\n",
    "%matplotlib inline \n",
    "import cv2\n",
    "from sklearn.utils import shuffle\n",
    "from sklearn.model_selection import train_test_split\n",
    "from tensorflow.keras.applications.mobilenet import MobileNet\n",
    "from tensorflow.keras.applications.resnet50 import ResNet50\n",
    "from tensorflow.keras.layers import Dense, Flatten, Dropout\n",
    "from tensorflow.keras.models import Sequential\n",
    "from tensorflow.keras import optimizers\n",
    "\n",
    "img_size = 128 # image height and width\n",
    "train_size = None # number of samples for training\n",
    "test_size = None # number of samples for testing"
   ]
  },
  {
   "cell_type": "markdown",
   "metadata": {
    "_uuid": "0e938f025f0a4dde9c759eb48c8da0ab5c491294"
   },
   "source": [
    "## Loading images and labels"
   ]
  },
  {
   "cell_type": "code",
   "execution_count": null,
   "metadata": {
    "_cell_guid": "79c7e3d0-c299-4dcb-8224-4455121ee9b0",
    "_uuid": "d629ff2d2480ee46fbb7e2d37f6b5fab8052498a"
   },
   "outputs": [],
   "source": [
    "files_paths = glob.glob('data/train/*.jpg') # list of image files\n",
    "files_labels = [[1, 0] if 'dog' in f else [0, 1] for f in files_paths] # labels\n",
    "\n",
    "print(len(files_paths), len(files_labels))"
   ]
  },
  {
   "cell_type": "code",
   "execution_count": null,
   "metadata": {
    "_uuid": "dc095d0940b0520bd90ecc64964435631c099a1a"
   },
   "outputs": [],
   "source": [
    "def files_2_img_array(files_list): \n",
    "    '''Takes list of image files paths and return np array of images'''\n",
    "    imgs = []\n",
    "    for i in files_list:\n",
    "        img = cv2.imread(i)\n",
    "        img = cv2.resize(img, (img_size, img_size))\n",
    "        img = img / 255.\n",
    "        imgs.append(img)\n",
    "    return np.array(imgs)\n",
    "\n",
    "x = files_2_img_array(files_paths[10000])\n",
    "y = np.array(files_labels[10000])\n",
    "print(x.shape, y.shape)"
   ]
  },
  {
   "cell_type": "markdown",
   "metadata": {
    "_uuid": "f53637756553c0a236b45a23eb46cbac09c117ba"
   },
   "source": [
    "## Plotting some samples"
   ]
  },
  {
   "cell_type": "code",
   "execution_count": null,
   "metadata": {
    "_uuid": "ef44c3bac3a897658eb865890c8ec0df7c93a1dd",
    "scrolled": true
   },
   "outputs": [],
   "source": [
    "n = 4\n",
    "fig, axs = plt.subplots(nrows=n, ncols=n, sharex=True, sharey=True, figsize=(10, 10))\n",
    "for i in range(n**2):\n",
    "    ax = axs[i // n, i % n]\n",
    "    ax.imshow(x[i])\n",
    "    ax.set_title('label: %s, idx: %s' % (str(y[i]), str(i)))\n",
    "    ax.axis('off')\n",
    "plt.show()"
   ]
  },
  {
   "cell_type": "markdown",
   "metadata": {
    "_uuid": "c71f71c06404017616d37605b75106c3c676f8e4"
   },
   "source": [
    "## Performing some basic image augmentation"
   ]
  },
  {
   "cell_type": "code",
   "execution_count": null,
   "metadata": {
    "_uuid": "94795b1aa1e0dc58010e3dc698555d30c9a37dcd"
   },
   "outputs": [],
   "source": [
    "x_flipped = np.array([np.fliplr(img) for img in x]) # performing flipping \n",
    "x = np.concatenate([x, x_flipped])\n",
    "y = np.concatenate([y, y])\n",
    "\n",
    "del x_flipped"
   ]
  },
  {
   "cell_type": "code",
   "execution_count": null,
   "metadata": {
    "_uuid": "453587127a65f6626d47d012279b0eeccd6c7df3"
   },
   "outputs": [],
   "source": [
    "plt.imshow(x[100])\n",
    "plt.axis('off')\n",
    "plt.show()\n",
    "\n",
    "plt.imshow(x[200])\n",
    "plt.axis('off')\n",
    "plt.show()"
   ]
  },
  {
   "cell_type": "markdown",
   "metadata": {
    "_uuid": "e9e45142e4f262b30970e60dde2a17fddc9a7be5"
   },
   "source": [
    "## Splitting data for train and test sets"
   ]
  },
  {
   "cell_type": "code",
   "execution_count": null,
   "metadata": {
    "_uuid": "b83313dea14756668d2cdf991cad95f914e09e81"
   },
   "outputs": [],
   "source": [
    "x_train, x_test, y_train, y_test = train_test_split(x, y, test_size=0.3)\n",
    "\n",
    "if train_size:\n",
    "    x_train = x_train[:train_size]\n",
    "    y_train = y_train[:train_size]\n",
    "if test_size:\n",
    "    x_test = x_test[:test_size]\n",
    "    y_test = y_test[:test_size]\n",
    "\n",
    "print(x_train.shape, x_test.shape)"
   ]
  },
  {
   "cell_type": "markdown",
   "metadata": {
    "_uuid": "32ab53ef275353796018900c3c0fff71494e13f4"
   },
   "source": [
    "## Building MobileNet model\n",
    "\n",
    "Pre-trained MobileNet + some dense layers."
   ]
  },
  {
   "cell_type": "code",
   "execution_count": null,
   "metadata": {
    "_uuid": "2cdbb597eef4605627243d288f9d0c87f5246a32"
   },
   "outputs": [],
   "source": [
    "mobile_net_model= MobileNet(weights='imagenet', include_top=False, input_shape=(img_size, img_size, 3))\n",
    "mobile_net_model.trainable = False\n",
    "\n",
    "model = Sequential()\n",
    "model.add(mobile_net_model)\n",
    "model.add(Flatten())\n",
    "model.add(Dense(128, activation='relu'))\n",
    "model.add(Dropout(0.3))\n",
    "model.add(Dense(64, activation='relu'))\n",
    "model.add(Dropout(0.25))\n",
    "model.add(Dense(2, activation='softmax'))\n",
    "model.summary()"
   ]
  },
  {
   "cell_type": "code",
   "execution_count": null,
   "metadata": {
    "_uuid": "d82a93ffc758355d1e4d6a7cefa78e70c253f3a8"
   },
   "outputs": [],
   "source": [
    "model.compile(loss='categorical_crossentropy',\n",
    "              optimizer=optimizers.Adam(),\n",
    "              metrics=['acc'])"
   ]
  },
  {
   "cell_type": "markdown",
   "metadata": {
    "_uuid": "97478eba09e26390dacf561f20cfba1658be3551"
   },
   "source": [
    "## Training model"
   ]
  },
  {
   "cell_type": "code",
   "execution_count": null,
   "metadata": {
    "_uuid": "a950bfd5fd7aabe69fbeeefafb39b5b326f2a063"
   },
   "outputs": [],
   "source": [
    "history = model.fit(\n",
    "    x_train,\n",
    "    y_train,\n",
    "    epochs=15,\n",
    "    batch_size=100,\n",
    "    validation_data=(x_test, y_test),\n",
    "    verbose=1)"
   ]
  },
  {
   "cell_type": "markdown",
   "metadata": {
    "_uuid": "4db279ef55196e98169cf83af70ae119125686bd"
   },
   "source": [
    "## Training history"
   ]
  },
  {
   "cell_type": "code",
   "execution_count": null,
   "metadata": {
    "_uuid": "159d76c9310a32642ef12edef3b72700d839519b"
   },
   "outputs": [],
   "source": [
    "plt.plot(history.history['acc'])\n",
    "plt.plot(history.history['val_acc'])\n",
    "plt.title('model accuracy')\n",
    "plt.ylabel('accuracy')\n",
    "plt.xlabel('epoch')\n",
    "plt.legend(['train', 'test'], loc='upper left')\n",
    "plt.show()"
   ]
  },
  {
   "cell_type": "code",
   "execution_count": null,
   "metadata": {
    "_uuid": "ebf33dfd41fb622ba4f6ba2be6011973fefad67e"
   },
   "outputs": [],
   "source": [
    "plt.plot(history.history['loss'])\n",
    "plt.plot(history.history['val_loss'])\n",
    "plt.title('model loss')\n",
    "plt.ylabel('loss')\n",
    "plt.xlabel('epoch')\n",
    "plt.legend(['train', 'test'], loc='upper left')\n",
    "plt.show()"
   ]
  }
 ],
 "metadata": {
  "kernelspec": {
   "display_name": "Python 3",
   "language": "python",
   "name": "python3"
  },
  "language_info": {
   "codemirror_mode": {
    "name": "ipython",
    "version": 3
   },
   "file_extension": ".py",
   "mimetype": "text/x-python",
   "name": "python",
   "nbconvert_exporter": "python",
   "pygments_lexer": "ipython3",
   "version": "3.7.3"
  }
 },
 "nbformat": 4,
 "nbformat_minor": 1
}
